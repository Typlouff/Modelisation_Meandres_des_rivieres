{
 "cells": [
  {
   "cell_type": "markdown",
   "id": "18aae68d",
   "metadata": {},
   "source": [
    "# Modélisation des méandres des rivières"
   ]
  },
  {
   "cell_type": "markdown",
   "id": "4fc6eabc",
   "metadata": {},
   "source": [
    "### Importation des librairies"
   ]
  },
  {
   "cell_type": "code",
   "execution_count": 1,
   "id": "342dbf08",
   "metadata": {},
   "outputs": [],
   "source": [
    "import numpy as np\n",
    "import matplotlib.pyplot as plt\n",
    "import scipy.interpolate\n",
    "from scipy.interpolate import make_interp_spline"
   ]
  },
  {
   "cell_type": "markdown",
   "id": "be35c77c",
   "metadata": {},
   "source": [
    "### Fonctions"
   ]
  },
  {
   "cell_type": "code",
   "execution_count": 2,
   "id": "b393434f",
   "metadata": {},
   "outputs": [],
   "source": [
    "def creation_du_canal(W,D,Sl,deltas,pad,n_bends):\n",
    "    \"\"\"Génère un canal avec un peu de bruit\n",
    "  W - largeur du canal\n",
    "  D - profondeur du canal\n",
    "  Sl - pente du canal\n",
    "  deltas - distance entre les noeuds par rapport au centre du canal\n",
    "  pad - nombre de noeuds le long du centre du canal\n",
    "  n_bends -nombre de courbures générer\"\"\"\n",
    "    bruit = n_bends*10*W/2.0 \n",
    "    pad1 = int(pad/10.0)\n",
    "    if pad1<5:\n",
    "        pad1 = 5\n",
    "    x = np.linspace(0, bruit+(pad+pad1)*deltas, int(bruit/deltas+pad+pad1)+1)\n",
    "    y = 10.0 * (2*np.random.random_sample(int(bruit/deltas)+1,)-1)\n",
    "    y = np.hstack((np.zeros((pad1),),y,np.zeros((pad),))) \n",
    "    return x,y"
   ]
  },
  {
   "cell_type": "code",
   "execution_count": 3,
   "id": "b5106a44",
   "metadata": {},
   "outputs": [],
   "source": [
    "def calcul_courbure(x,y):\n",
    "    \"\"\"fonction qui calcule la courbure locale du canal en fonction des coordonnées\n",
    "    s - la distance entre le début du canal jusqu'à la courbe\n",
    "    \"\"\"\n",
    "    dx = np.gradient(x)\n",
    "    dy = np.gradient(y)      \n",
    "    ddx = np.gradient(dx)\n",
    "    ddy = np.gradient(dy) \n",
    "    curvature = (dx*ddy-dy*ddx)/((dx**2+dy**2)**1.5)\n",
    "    return curvature"
   ]
  },
  {
   "cell_type": "code",
   "execution_count": 4,
   "id": "f9fe9461",
   "metadata": {},
   "outputs": [],
   "source": [
    "def calcul_derivees(x,y):\n",
    "    \"\"\"fonction qui calcule les dérivées\"\"\"\n",
    "    dx = np.gradient(x)\n",
    "    dy = np.gradient(y)      \n",
    "    ds = np.sqrt(dx**2+dy**2)\n",
    "    s = np.hstack((0,np.cumsum(ds[1:])))\n",
    "    return dx, dy, ds, s"
   ]
  },
  {
   "cell_type": "code",
   "execution_count": 5,
   "id": "a0f26d3a",
   "metadata": {},
   "outputs": [],
   "source": [
    "def calcul_R0(kl, curv,W):\n",
    "    \"\"\"fonction qui calcule le taux de migration nominale\"\"\"\n",
    "    curv = W*curv \n",
    "    R0 = kl*curv \n",
    "    return R0"
   ]
  },
  {
   "cell_type": "code",
   "execution_count": 6,
   "id": "1ee50e1b",
   "metadata": {},
   "outputs": [],
   "source": [
    "def calcul_taux_migration(pad,ns,ds,alpha,omega,gamma,R0):\n",
    "    \"\"\" calcul le taux de migration ajusté R1\n",
    "    R0 - taux de migration nominal\"\"\"\n",
    "    R1 = np.zeros_like(R0)\n",
    "    pad1 = int(pad / 10.0)\n",
    "    if pad1 < 5:\n",
    "        pad1 = 5\n",
    "    \n",
    "    for i in range(pad1, ns - pad):\n",
    "        si2 = np.hstack(([0], np.cumsum(ds[i-1:i-ns:-1]))) \n",
    "        G = np.exp(-alpha * si2)\n",
    "        len_G = len(G)\n",
    "        if len(R0[i::-1]) < len_G:\n",
    "            len_G = len(R0[i::-1])\n",
    "            G = G[:len_G]\n",
    "        \n",
    "        R1[i] = omega * R0[i] + gamma * np.sum(R0[i::-1][:len_G] * G) / np.sum(G)\n",
    "        \n",
    "    return R1, pad1"
   ]
  },
  {
   "cell_type": "code",
   "execution_count": 7,
   "id": "cfa5775d",
   "metadata": {},
   "outputs": [],
   "source": [
    "def migrate_one_step(x,y,W,kl,dt,k,Cf,D,pad,pad1,omega,gamma,R0,R1, ns, curv,dx,dy,ds,s, alpha):\n",
    "    '''Cacule la migration step par step\n",
    "    '''\n",
    "\n",
    "    sinuosity = s[-1]/(x[-1]-x[0])\n",
    "    R1 = sinuosity**(-2/3.0)*R1\n",
    "    dy_ds = dy[pad1:ns-pad+1]/ds[pad1:ns-pad+1]\n",
    "    dx_ds = dx[pad1:ns-pad+1]/ds[pad1:ns-pad+1]\n",
    "    x[pad1:ns-pad+1] = x[pad1:ns-pad+1] + R1[pad1:ns-pad+1]*dy_ds*dt  \n",
    "    y[pad1:ns-pad+1] = y[pad1:ns-pad+1] - R1[pad1:ns-pad+1]*dx_ds*dt \n",
    "    return x,y"
   ]
  },
  {
   "cell_type": "code",
   "execution_count": 8,
   "id": "ad716bd4",
   "metadata": {},
   "outputs": [],
   "source": [
    "def cut_off_cutoffs(x, y, s, crdist, deltas):\n",
    "    \"\"\"La fonction qui sera utilisée pour enlever les bras-morts (oxbows)\"\"\"\n",
    "    xc, yc = [], []\n",
    "    return x, y, xc, yc"
   ]
  },
  {
   "cell_type": "code",
   "execution_count": 9,
   "id": "8eec1ee9",
   "metadata": {},
   "outputs": [],
   "source": [
    "def resample_centerline(x,y,deltas):\n",
    "    '''Rééchantillonner la ligne médiane de sorte que 'deltas' soit à peu près constant'''\n",
    "\n",
    "    dx, dy, ds, s = calcul_derivees(x,y)\n",
    "    tck, u = scipy.interpolate.splprep([x,y],s=0) \n",
    "    unew = np.linspace(0,1,1+int(round(s[-1]/deltas))) \n",
    "    out = scipy.interpolate.splev(unew,tck)\n",
    "    x, y = out[0], out[1] \n",
    "    dx, dy, ds, s = calcul_derivees(x,y) \n",
    "    return x,y,dx,dy,ds,s"
   ]
  },
  {
   "cell_type": "code",
   "execution_count": 10,
   "id": "65bb0762",
   "metadata": {},
   "outputs": [],
   "source": [
    "def get_last_cl_time(cl_times):\n",
    "    \"\"\"fonction pour récupérer le dernier élément d'une liste\"\"\"\n",
    "    if len(cl_times) > 0:\n",
    "        return cl_times[-1]\n",
    "    else:\n",
    "        return 0"
   ]
  },
  {
   "cell_type": "code",
   "execution_count": 11,
   "id": "9c2e2f75",
   "metadata": {},
   "outputs": [],
   "source": [
    "def migrate(x,y,nit, saved_ts, deltas, pad, crdist, depths, Cf, kl, dt, cl_times, cutoff_times, cutoffs,ns, curv,dx,dy,ds,s, alpha):\n",
    "    \"\"\" Calcule des nouvelles coordonnées x et y après migration\"\"\"\n",
    "    k = 1.0\n",
    "    pad1 = int(pad / 10.0)\n",
    "    if pad1 < 5:\n",
    "        pad1 = 5\n",
    "    omega = -1.0\n",
    "    gamma = 2.5\n",
    "\n",
    "\n",
    "    centerlines = []\n",
    "\n",
    "    last_cl_time = get_last_cl_time(cl_times)\n",
    "\n",
    "    for itn in range(nit):\n",
    "        D = depths[itn]\n",
    "        x, y = migrate_one_step(x,y,W,kl,dt,k,Cf,D,pad,pad1,omega,gamma,R0,R1, ns, curv,dx,dy,ds,s, alpha)\n",
    "        x, y,  xc, yc,  = cut_off_cutoffs(x, y,  s, crdist, deltas)\n",
    "        x, y,  dx, dy,  ds, s = resample_centerline(x, y, deltas)\n",
    "\n",
    "        if len(xc) > 0:\n",
    "            cutoff_times.append(last_cl_time + (itn + 1) * dt / (365 * 24 * 60 * 60.0))\n",
    "            cutoff = (xc, yc, W, D)\n",
    "            cutoffs.append(cutoff)\n",
    "\n",
    "        if (np.mod(itn, saved_ts) == 0) & (itn > 0):\n",
    "            cl_times.append(last_cl_time + (itn + 1) * dt / (365 * 24 * 60 * 60.0))\n",
    "            channel = (x, y, W, D)\n",
    "            centerlines.append((x.copy(), y.copy()))  \n",
    "\n",
    "    return centerlines"
   ]
  },
  {
   "cell_type": "markdown",
   "id": "229a27da",
   "metadata": {},
   "source": [
    "### Constantes"
   ]
  },
  {
   "cell_type": "code",
   "execution_count": 15,
   "id": "2d9ef7c5",
   "metadata": {},
   "outputs": [],
   "source": [
    "nit = 2000                   # nombre d'itérations\n",
    "W = 200.0                    # largeur du canal\n",
    "D = 6.0                      # profondeur du canal\n",
    "depths = D * np.ones((nit,))  # profondeur du canal pour différentes itérations  \n",
    "pad = 100                    # nombre de noeuds par rapport au centre du canal\n",
    "deltas = 50.0                # distance depuis l'amont \n",
    "Sl = 0.0                     # pente initial\n",
    "n_bends = 15                 # nombre de courbure à simuler\n",
    "kl = 60.0/(365*24*60*60.0)   # constante du taux de migration (m/s)\n",
    "Cf = 0.011 * np.ones((nit,)) # coefficient de friction\n",
    "k =1                         #constante établie\n",
    "alpha = k*2*Cf/D             # constante pour calculer le taux de pondération\n",
    "omega = -1                   #constante établie\n",
    "gamma = 2.5                  #constante établie\n",
    "dt = 2*0.05*365*24*60*60.0     # time step (s)\n",
    "saved_ts = 10                 #on prend un point toutes les 10 itérations\n",
    "crdist = 0.1                   #distance critique de coupure\n",
    "cl_times = []\n",
    "cutoff_times = []\n",
    "cutoffs = []"
   ]
  },
  {
   "cell_type": "markdown",
   "id": "c34f0c8c",
   "metadata": {},
   "source": [
    "### Appel des fonctions"
   ]
  },
  {
   "cell_type": "code",
   "execution_count": 16,
   "id": "955a96f8",
   "metadata": {},
   "outputs": [],
   "source": [
    "x, y= creation_du_canal(W,D,Sl,deltas,pad,n_bends)\n",
    "ns=len(x)\n",
    "curv = calcul_courbure(x,y)\n",
    "dx, dy, ds, s = calcul_derivees(x,y)\n",
    "R0 = calcul_R0(kl, curv,W)\n",
    "R1, pad1 = calcul_taux_migration(pad,ns,ds,alpha,omega,gamma,R0)\n",
    "centerlines = migrate(x,y,nit, saved_ts, deltas, pad, crdist, depths, Cf, kl, dt, cl_times, cutoff_times, cutoffs,ns, curv,dx,dy,ds,s,alpha)"
   ]
  },
  {
   "cell_type": "markdown",
   "id": "147a5fa3",
   "metadata": {},
   "source": [
    "### Plots"
   ]
  },
  {
   "cell_type": "code",
   "execution_count": 18,
   "id": "8da0ac39",
   "metadata": {},
   "outputs": [
    {
     "data": {
      "image/png": "[encoded data removed]",
      "text/plain": [
       "<Figure size 720x1080 with 3 Axes>"
      ]
     },
     "metadata": {
      "needs_background": "light"
     },
     "output_type": "display_data"
    }
   ],
   "source": [
    "fig, [ax1, ax2, ax3] = plt.subplots(3, 1, sharex=True, figsize=(10, 15))\n",
    "ax1.plot(centerlines[0][0], centerlines[0][1])\n",
    "ax1.set_ylim(-450, 450)\n",
    "ax1.set_xlim(1000, 5000)\n",
    "ax1.set_title('10 itérations')  \n",
    "ax1.set_xlabel('x')\n",
    "ax1.set_ylabel('y')\n",
    "\n",
    "ax2.plot(centerlines[50][0], centerlines[50][1])\n",
    "ax2.set_ylim(-450, 450)\n",
    "ax2.set_xlim(1000, 5000)\n",
    "ax2.set_title('500 itérations')  \n",
    "ax2.set_xlabel('x')\n",
    "ax2.set_ylabel('y')\n",
    "\n",
    "\n",
    "ax3.plot(centerlines[198][0], centerlines[198][1])\n",
    "ax3.set_ylim(-450, 450)\n",
    "ax3.set_xlim(1000, 5000)\n",
    "ax3.set_title('2000 itérations')  \n",
    "ax3.set_xlabel('x')\n",
    "ax3.set_ylabel('y')\n",
    "\n",
    "plt.suptitle('Méandre de la Rivière', fontsize=16)  \n",
    "plt.savefig('Meandre_de_la_Riviere_15_200_6')\n",
    "plt.show()"
   ]
  },
  {
   "cell_type": "code",
   "execution_count": null,
   "id": "5c63dc90",
   "metadata": {},
   "outputs": [],
   "source": []
  }
 ],
 "metadata": {
  "kernelspec": {
   "display_name": "Python 3 (ipykernel)",
   "language": "python",
   "name": "python3"
  },
  "language_info": {
   "codemirror_mode": {
    "name": "ipython",
    "version": 3
   },
   "file_extension": ".py",
   "mimetype": "text/x-python",
   "name": "python",
   "nbconvert_exporter": "python",
   "pygments_lexer": "ipython3",
   "version": "3.9.7"
  }
 },
 "nbformat": 4,
 "nbformat_minor": 5
}
